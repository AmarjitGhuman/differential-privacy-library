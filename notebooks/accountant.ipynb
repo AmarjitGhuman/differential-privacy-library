{
 "cells": [
  {
   "cell_type": "markdown",
   "metadata": {},
   "source": [
    "# Budget accounting with diffprivlib"
   ]
  },
  {
   "cell_type": "markdown",
   "metadata": {},
   "source": [
    "Diffprivlib includes a budget accountant to allow you to keep track of privacy budget being spent. The budget accounting is handled by the `BudgetAccountant` class."
   ]
  },
  {
   "cell_type": "markdown",
   "metadata": {},
   "source": [
    "Basic functionality of the `BudgetAccountant` includes initialisation with an appropriate `epsilon` and `delta` (if desired), determining the total current spend with `total()` and evaluating the remaining budget to be spent with `remaining()`."
   ]
  },
  {
   "cell_type": "code",
   "execution_count": 1,
   "metadata": {},
   "outputs": [],
   "source": [
    "import numpy as np\n",
    "from diffprivlib import BudgetAccountant\n",
    "from diffprivlib.tools import mean, var\n",
    "\n",
    "X = np.random.random(100)"
   ]
  },
  {
   "cell_type": "code",
   "execution_count": 2,
   "metadata": {},
   "outputs": [
    {
     "name": "stdout",
     "output_type": "stream",
     "text": [
      "Total spent: (1.0, 0)\n",
      "Remaining budget (for 1 query): (1.0, 0.0)\n"
     ]
    }
   ],
   "source": [
    "acc = BudgetAccountant(2, 0)\n",
    "dp_mean = mean(X, range=1, accountant=acc)\n",
    "\n",
    "print(\"Total spent: {}\".format(acc.total()))\n",
    "print(\"Remaining budget (for 1 query): {}\".format(acc.remaining()))"
   ]
  },
  {
   "cell_type": "markdown",
   "metadata": {},
   "source": [
    "If a query were to exceed the privacy budget specified in the accountant, an error is raised and execution does not continue."
   ]
  },
  {
   "cell_type": "code",
   "execution_count": 3,
   "metadata": {},
   "outputs": [
    {
     "name": "stdout",
     "output_type": "stream",
     "text": [
      "Error raised <class 'diffprivlib.utils.BudgetError'>: Privacy spend of (1,0) not permissible; will exceed remaining privacy budget. Use BudgetAccountant.remaining to check remaining budget.\n"
     ]
    }
   ],
   "source": [
    "acc = BudgetAccountant(1.5, 0)\n",
    "\n",
    "dp_mean = mean(X, epsilon=1, range=1, accountant=acc)\n",
    "\n",
    "try:\n",
    "    dp_std = var(X, epsilon=1, range=1, accountant=acc)\n",
    "except Exception as e:\n",
    "    print(\"Error raised {}: {}\".format(type(e), e))"
   ]
  },
  {
   "cell_type": "markdown",
   "metadata": {},
   "source": [
    "## Using `BudgetAccountant` to track privacy budget"
   ]
  },
  {
   "cell_type": "markdown",
   "metadata": {},
   "source": [
    "There are three ways to use the `BudgetAccountant` class to track budget spend across many operations:\n",
    "1. **Parameterisation:** Passed as a parameter (`accountant=acc`)\n",
    "2. **Default:** Set as a default (`set_default()`)\n",
    "3. **Context manager:** Using `with` over a block of code"
   ]
  },
  {
   "cell_type": "code",
   "execution_count": 4,
   "metadata": {},
   "outputs": [
    {
     "name": "stdout",
     "output_type": "stream",
     "text": [
      "Total spend: (1.618, 0)\n"
     ]
    }
   ],
   "source": [
    "acc_p = BudgetAccountant()\n",
    "mean(X, epsilon=1.618, range=1, accountant=acc_p)\n",
    "\n",
    "print(\"Total spend: {}\".format(acc_p.total()))"
   ]
  },
  {
   "cell_type": "code",
   "execution_count": 5,
   "metadata": {},
   "outputs": [
    {
     "name": "stdout",
     "output_type": "stream",
     "text": [
      "Total spend: (2.718, 0)\n"
     ]
    }
   ],
   "source": [
    "acc_d = BudgetAccountant()\n",
    "acc_d.set_default()\n",
    "mean(X, epsilon=2.718, range=1)\n",
    "\n",
    "print(\"Total spend: {}\".format(acc_d.total()))"
   ]
  },
  {
   "cell_type": "code",
   "execution_count": 6,
   "metadata": {},
   "outputs": [
    {
     "name": "stdout",
     "output_type": "stream",
     "text": [
      "Total spend: (3.141, 0)\n"
     ]
    }
   ],
   "source": [
    "with BudgetAccountant() as acc_w:\n",
    "    mean(X, epsilon=1.5705, range=1)\n",
    "    var(X, epsilon=1.5705, range=1)\n",
    "\n",
    "print(\"Total spend: {}\".format(acc_w.total()))"
   ]
  },
  {
   "cell_type": "markdown",
   "metadata": {},
   "source": [
    "# Setting the `slack`"
   ]
  },
  {
   "cell_type": "markdown",
   "metadata": {},
   "source": [
    "Composition of privacy budgets typically add up linearly, that is unless you allow a slack in your `delta`. This is goverened by the `slack` parameter in the initialisation.\n",
    "\n",
    "The benefit of a non-zero slack is especially evident when many queries are being asked."
   ]
  },
  {
   "cell_type": "code",
   "execution_count": 7,
   "metadata": {},
   "outputs": [
    {
     "data": {
      "text/plain": [
       "<matplotlib.legend.Legend at 0x7fb8ae78b9e8>"
      ]
     },
     "execution_count": 7,
     "metadata": {},
     "output_type": "execute_result"
    },
    {
     "data": {
      "image/png": "[encoded data removed]",
      "text/plain": [
       "<Figure size 432x288 with 1 Axes>"
      ]
     },
     "metadata": {
      "needs_background": "light"
     },
     "output_type": "display_data"
    }
   ],
   "source": [
    "acc = BudgetAccountant(slack=1e-3)\n",
    "epsilon, queries = 2**-6, 31\n",
    "\n",
    "budget_summed = [epsilon * (i + 1) for i in range(queries)]\n",
    "budget_composed = [acc.spend(epsilon, 0).total()[0] for i in range(queries)]\n",
    "\n",
    "import matplotlib.pyplot as plt\n",
    "plt.plot(np.arange(queries), budget_summed, label=\"Naive composition (slack=0)\")\n",
    "plt.plot(np.arange(queries), budget_composed, label=\"Advanced composition (slack=%.2e)\" % acc.slack)\n",
    "plt.xlabel(\"Queries\")\n",
    "plt.ylabel(\"Epsilon spent\")\n",
    "plt.xlim(0, queries - 1)\n",
    "plt.ylim(0, None)\n",
    "plt.legend()"
   ]
  }
 ],
 "metadata": {
  "kernelspec": {
   "display_name": "Python 3",
   "language": "python",
   "name": "python3"
  },
  "language_info": {
   "codemirror_mode": {
    "name": "ipython",
    "version": 3
   },
   "file_extension": ".py",
   "mimetype": "text/x-python",
   "name": "python",
   "nbconvert_exporter": "python",
   "pygments_lexer": "ipython3",
   "version": "3.6.8"
  }
 },
 "nbformat": 4,
 "nbformat_minor": 4
}
